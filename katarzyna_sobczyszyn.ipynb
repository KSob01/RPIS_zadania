{
 "cells": [
  {
   "cell_type": "markdown",
   "metadata": {
    "collapsed": true,
    "pycharm": {
     "name": "#%% md\n"
    }
   },
   "source": [
    "# Zadanie 1\n",
    "## Zestaw 7 zadanie komputerowe 1\n",
    "Zadanie komputerowe 1. Załóż, że dysponujesz generatorem liczb losowych U z rozkładem\n",
    "równomiernym na (0, 1). Używając tego rozkładu zaprojektuj algorytm realizujący generator liczb\n",
    "losowych z rozkładem:\n",
    "#### a) Bernoulliego z parametrem p\n",
    "#### b) Dwumianowy z parametrami n, p"
   ]
  },
  {
   "cell_type": "markdown",
   "source": [
    "#### a)"
   ],
   "metadata": {
    "collapsed": false,
    "pycharm": {
     "name": "#%% md\n"
    }
   }
  },
  {
   "cell_type": "code",
   "execution_count": 1029,
   "outputs": [
    {
     "data": {
      "text/plain": "[0, 0, 0, 0]"
     },
     "execution_count": 1029,
     "metadata": {},
     "output_type": "execute_result"
    }
   ],
   "source": [
    "from scipy.stats import uniform\n",
    "def bernoulli(p, s):\n",
    "    return [1 if i <= p else 0 for i in uniform.rvs(loc=0, scale=1, size=s)]\n",
    "# Aby wylosować s elementów o rozkładzie bernoulliego z prawdopodobieństwem p\n",
    "# Dla pojedynczej liczby losowana jest wartość z przedziału (0,1)\n",
    "# Za sukces przyjmowane jest wylosowanie wartości <= p\n",
    "\n",
    "bernoulli(0.25, 4)"
   ],
   "metadata": {
    "collapsed": false,
    "pycharm": {
     "name": "#%%\n"
    }
   }
  },
  {
   "cell_type": "markdown",
   "source": [
    "#### b)"
   ],
   "metadata": {
    "collapsed": false
   }
  },
  {
   "cell_type": "code",
   "execution_count": 1030,
   "outputs": [
    {
     "data": {
      "text/plain": "[3, 3, 0, 3]"
     },
     "execution_count": 1030,
     "metadata": {},
     "output_type": "execute_result"
    }
   ],
   "source": [
    "import numpy as np\n",
    "from scipy.stats import uniform\n",
    "def dwumianowy(n, p, s):\n",
    "    return [np.sum(uniform.rvs(loc=0, scale=1, size=n) <= p) for _ in range(s)]\n",
    "\n",
    "# Aby wylosować s elementów o rozkładzie dwumianowym z prawdopodobieństwem p przy n próbach\n",
    "# dla pojedyczej liczby lososane jest n liczb z rozkładu równomiernego (0,1)\n",
    "# sumujemy liczbę zwycięstw gdzie za zwycięstwo uzanwane jest wylosowanie wartości <= p\n",
    "\n",
    "\n",
    "dwumianowy(9, 0.3, 4)"
   ],
   "metadata": {
    "collapsed": false,
    "pycharm": {
     "name": "#%%\n"
    }
   }
  },
  {
   "cell_type": "markdown",
   "source": [
    "# Zadanie 2\n",
    "## Zestaw 4 zadanie 12\n",
    " Napisz program, który będzie obliczał skumulowaną funkcję rozkładu dla\n",
    "zmiennej o rozkładzie dwumianowym, tzn. wartość\n",
    "#### $$ P\\{𝑋 ≤ 𝑖\\} = \\sum_{k=0}^i\\binom{n}{k}p^k(1-p)^{n-k} \\; dla\\; i=0,1,...,n $$\n",
    "W tym celu oblicz i wykorzystaj zależność pomiędzy 𝑃{𝑋 = 𝑘 + 1} a 𝑃{𝑋 = 𝑘}, tzn. użyj tej\n",
    "zależności rekurencyjnej do obliczania kolejnych 𝑃{𝑋 = 𝑖}."
   ],
   "metadata": {
    "collapsed": false
   }
  },
  {
   "cell_type": "code",
   "execution_count": 1031,
   "outputs": [
    {
     "name": "stdout",
     "output_type": "stream",
     "text": [
      "0.9999970020000002 = 0.999997002\n",
      "0.5517738099999998 = 0.5517738100000003\n",
      "0.11764899999999996 = 0.11764900000000006\n"
     ]
    }
   ],
   "source": [
    "# Przekształcając P{X=i+1}/P{X=i} dostajemy\n",
    "# P{X=i+1}=p*(n-1)/((i+1)*(1-p)) * P{X=i}\n",
    "# W ten sposób sumując sumując P{X=i+1}\n",
    "def dwumianowy_skumulowany(i, n, p):\n",
    "    prev = pow(1 - p, n)\n",
    "    suma = prev\n",
    "    for i in range(i):\n",
    "        prev=p*(n-i)/((i+1)*(1-p))*prev\n",
    "        suma+=prev\n",
    "    return suma\n",
    "\n",
    "#Porównanie wyników\n",
    "from scipy.stats import binom\n",
    "print(dwumianowy_skumulowany(6, 9, 0.1), \"=\",binom.cdf(6,9,0.1))\n",
    "print(dwumianowy_skumulowany(2, 8, 0.3) , \"=\",binom.cdf(2,8,0.3))\n",
    "print(dwumianowy_skumulowany(0, 6, 0.3), \"=\",binom.cdf(0,6,0.3))"
   ],
   "metadata": {
    "collapsed": false,
    "pycharm": {
     "name": "#%%\n"
    }
   }
  },
  {
   "cell_type": "markdown",
   "source": [
    "# Zadanie 3\n",
    "## Zestaw 4 zadanie 13\n",
    "Napisz program analogiczny do tego z zadania 1, ale dla rozkładu\n",
    "Poissona. Oblicz w analogiczny sposób zależność między\n",
    "#### 𝑃{𝑋 = 𝑖 + 1} a 𝑃{𝑋 = 𝑖}\n",
    "i wykorzystaj zależność rekurencyjną."
   ],
   "metadata": {
    "collapsed": false
   }
  },
  {
   "cell_type": "code",
   "execution_count": 1032,
   "outputs": [
    {
     "name": "stdout",
     "output_type": "stream",
     "text": [
      "0.9473469826562889 = 0.9473469826562889\n",
      "0.9196986029286058 = 0.9196986029286058\n"
     ]
    }
   ],
   "source": [
    "from math import exp\n",
    "# Przekształcając P{X=i+1}/P{X=i} dostajemy\n",
    "# P{X=i+1}=l/(i+1) * P{X=i}\n",
    "# W ten sposób sumując sumując P{X=i+1}\n",
    "\n",
    "def poisson_skumulowany(i,l):\n",
    "    prev = exp(-l)\n",
    "    suma=prev\n",
    "    for i in range(i):\n",
    "        prev = l/(i+1)*prev\n",
    "        suma+=prev\n",
    "    return suma\n",
    "\n",
    "#Porównanie wyników\n",
    "from scipy.stats import poisson\n",
    "print(poisson_skumulowany(4, 2),\"=\",poisson.cdf(4,2))\n",
    "print(poisson_skumulowany(2, 1),\"=\",poisson.cdf(2,1))"
   ],
   "metadata": {
    "collapsed": false,
    "pycharm": {
     "name": "#%%\n"
    }
   }
  },
  {
   "cell_type": "markdown",
   "source": [
    "# Zadanie 4\n",
    "### Zestaw 10 zadanie 6\n",
    "Dostawca usług internetowych bada obciążenie sieci. Liczba jednoczesnych\n",
    "użytkowników w 50 lokalizacjach wynosi (w tysiącach):\n",
    "\n",
    "17.2, 22.1, 18.5, 17.2, 18.6, 14.8, 21.7, 15.8, 16.3, 22.8, 24.1, 13.3, 16.2, 17.5, 19.0, 23.9, 14.8, 22.2,\n",
    "21.7, 20.7, 13.5, 15.8, 13.1, 16.1, 21.9, 23.9, 19.3, 12.0, 19.9, 19.4, 15.4, 16.7, 19.5, 16.2, 16.9, 17.1,\n",
    "20.2, 13.4, 19.8, 17.7, 19.7, 18.7, 17.6, 15.9, 15.2, 17.1, 15.0, 18.8, 21.6, 11.9.\n",
    "\n",
    "a) Oblicz średnią, wariancję i odchylenie z próby.\n",
    "\n",
    "b) Oszacuj błąd standardowy średniej z próby.\n",
    "\n",
    "c) Oblicz pięciopunktowe podsumowanie i skonstruuj wykres-pudełko (polecenia summary,\n",
    "boxplot w R).\n",
    "\n",
    "d) Oblicz rozstęp międzykwartylowy; czy w próbie są jakieś wartości odstające?\n",
    "\n",
    "e) Zaraportowano, że liczba jednoczesnych użytkowników podlega rozkładowi normalnemu; czy\n",
    "histogram wspiera to stwierdzenie?"
   ],
   "metadata": {
    "collapsed": false
   }
  },
  {
   "cell_type": "code",
   "execution_count": 1033,
   "outputs": [],
   "source": [
    "import numpy as np\n",
    "\n",
    "X = np.array(\n",
    "    [17.2, 22.1, 18.5, 17.2, 18.6, 14.8, 21.7, 15.8, 16.3, 22.8, 24.1, 13.3, 16.2, 17.5, 19.0, 23.9, 14.8, 22.2,\n",
    "     21.7, 20.7, 13.5, 15.8, 13.1, 16.1, 21.9, 23.9, 19.3, 12.0, 19.9, 19.4, 15.4, 16.7, 19.5, 16.2, 16.9, 17.1,\n",
    "     20.2, 13.4, 19.8, 17.7, 19.7, 18.7, 17.6, 15.9, 15.2, 17.1, 15.0, 18.8, 21.6, 11.9])"
   ],
   "metadata": {
    "collapsed": false,
    "pycharm": {
     "name": "#%%\n"
    }
   }
  },
  {
   "cell_type": "markdown",
   "source": [
    "#### a)"
   ],
   "metadata": {
    "collapsed": false
   }
  },
  {
   "cell_type": "code",
   "execution_count": 1034,
   "outputs": [
    {
     "name": "stdout",
     "output_type": "stream",
     "text": [
      "średnia:  17.954\n",
      "wariancja:  9.768884\n",
      "odchylenie:  3.1255213965033097\n"
     ]
    }
   ],
   "source": [
    "print(\"średnia: \", X.mean())\n",
    "print('wariancja: ', X.var())\n",
    "print(\"odchylenie: \", X.std())"
   ],
   "metadata": {
    "collapsed": false,
    "pycharm": {
     "name": "#%%\n"
    }
   }
  },
  {
   "cell_type": "markdown",
   "source": [
    "#### b)"
   ],
   "metadata": {
    "collapsed": false
   }
  },
  {
   "cell_type": "code",
   "execution_count": 1035,
   "outputs": [
    {
     "name": "stdout",
     "output_type": "stream",
     "text": [
      "błąd średniej próby:  0.44650305664332995\n"
     ]
    }
   ],
   "source": [
    "from scipy.stats import sem\n",
    "print(\"błąd średniej próby: \", sem(X))"
   ],
   "metadata": {
    "collapsed": false,
    "pycharm": {
     "name": "#%%\n"
    }
   }
  },
  {
   "cell_type": "markdown",
   "source": [
    "#### c)"
   ],
   "metadata": {
    "collapsed": false
   }
  },
  {
   "cell_type": "code",
   "execution_count": 1036,
   "outputs": [
    {
     "name": "stdout",
     "output_type": "stream",
     "text": [
      "Pięciopunktowe podsumowanie:\n",
      "11.9\n",
      "24.1\n",
      "3.1255213965033097\n",
      "17.954\n",
      "17.55\n"
     ]
    },
    {
     "data": {
      "text/plain": "<Figure size 432x288 with 1 Axes>",
      "image/png": "[encoded data removed]"
     },
     "metadata": {
      "needs_background": "light"
     },
     "output_type": "display_data"
    }
   ],
   "source": [
    "import numpy as np\n",
    "import matplotlib.pyplot as plt\n",
    "print(\"Pięciopunktowe podsumowanie:\")\n",
    "print(np.min(X))\n",
    "print(np.max(X))\n",
    "print(np.std(X))\n",
    "print(np.mean(X))\n",
    "print(np.median(X))\n",
    "plt.boxplot(X)\n",
    "plt.show()"
   ],
   "metadata": {
    "collapsed": false,
    "pycharm": {
     "name": "#%%"
    }
   }
  },
  {
   "cell_type": "markdown",
   "source": [
    "#### d)"
   ],
   "metadata": {
    "collapsed": false
   }
  },
  {
   "cell_type": "code",
   "execution_count": 1037,
   "outputs": [
    {
     "name": "stdout",
     "output_type": "stream",
     "text": [
      "4.049999999999999\n"
     ]
    }
   ],
   "source": [
    "import numpy as np\n",
    "q3, q1 = np.percentile(X, [75, 25])\n",
    "iqr = q3 - q1\n",
    "print(iqr)"
   ],
   "metadata": {
    "collapsed": false,
    "pycharm": {
     "name": "#%%\n"
    }
   }
  },
  {
   "cell_type": "markdown",
   "source": [
    "#### e)"
   ],
   "metadata": {
    "collapsed": false
   }
  },
  {
   "cell_type": "code",
   "execution_count": 1038,
   "outputs": [
    {
     "name": "stdout",
     "output_type": "stream",
     "text": [
      "Histogram nie wspiera tego stwierdzenia\n"
     ]
    },
    {
     "data": {
      "text/plain": "<Figure size 432x288 with 1 Axes>",
      "image/png": "[encoded data removed]"
     },
     "metadata": {
      "needs_background": "light"
     },
     "output_type": "display_data"
    }
   ],
   "source": [
    "#Rysuję histogram gęstości\n",
    "# i wykres gęstości rozkładu normalnego o średniej i odchyleniu standardowym wyliczonym dla zbioru X\n",
    "import numpy as np\n",
    "import matplotlib.pyplot as plt\n",
    "from scipy.stats import  norm\n",
    "print(\"Histogram nie wspiera tego stwierdzenia\")\n",
    "b = int(X.size / 2)\n",
    "mu = X.mean()\n",
    "sigma = X.std()\n",
    "x = np.linspace(mu - 3 * sigma, mu + 3 * sigma, 100)\n",
    "plt.plot(x, norm.pdf(x, mu, sigma))\n",
    "plt.hist(X, bins=b, density=True)\n",
    "plt.show()"
   ],
   "metadata": {
    "collapsed": false,
    "pycharm": {
     "name": "#%%\n"
    }
   }
  },
  {
   "cell_type": "markdown",
   "source": [
    "# Zadanie 5\n",
    "### Zestaw 10 zadanie 8\n",
    "Poniższy zbiór danych reprezentuje liczbę nowych kont komputerowych\n",
    "założonych przez administratora w ciągu 10 kolejnych dni:\n",
    "\n",
    "43, 37, 50, 51, 58, 105, 52, 45, 45, 10.\n",
    "\n",
    "a) Oblicz średnią, medianę, kwartyle i odchylenie standardowe.\n",
    "\n",
    "b) Sprawdź istnienie wartości odstających używając reguły 1.5 𝐼𝑄𝑅.\n",
    "\n",
    "c) Usuń wykryte wartości odstające i ponownie oblicz statystyki z punktu a).\n",
    "\n",
    "d) Przedyskutuj wpływ efektu wartości odstających na statystyki opisowe."
   ],
   "metadata": {
    "collapsed": false
   }
  },
  {
   "cell_type": "code",
   "execution_count": 1039,
   "outputs": [],
   "source": [
    "import numpy as np\n",
    "X = np.array([43, 37, 50, 51, 58, 105, 52, 45, 45, 10])"
   ],
   "metadata": {
    "collapsed": false,
    "pycharm": {
     "name": "#%%\n"
    }
   }
  },
  {
   "cell_type": "markdown",
   "source": [
    "#### a)"
   ],
   "metadata": {
    "collapsed": false
   }
  },
  {
   "cell_type": "code",
   "execution_count": 1040,
   "outputs": [
    {
     "name": "stdout",
     "output_type": "stream",
     "text": [
      "średnia:  49.6\n",
      "mediana:  47.5\n",
      "odchylenie standardowe:  22.27195545972558\n",
      "kwartyle:  [43.5  47.5  51.75]\n"
     ]
    }
   ],
   "source": [
    "import numpy as np\n",
    "def param(X):\n",
    "    print(\"średnia: \", np.mean(X))\n",
    "    print(\"mediana: \", np.median(X))\n",
    "    print(\"odchylenie standardowe: \", np.std(X))\n",
    "    q = np.quantile(X, [0.25, 0.5, 0.75])\n",
    "    print(\"kwartyle: \", q)\n",
    "param(X)"
   ],
   "metadata": {
    "collapsed": false,
    "pycharm": {
     "name": "#%%\n"
    }
   }
  },
  {
   "cell_type": "markdown",
   "source": [
    "#### b)"
   ],
   "metadata": {
    "collapsed": false
   }
  },
  {
   "cell_type": "code",
   "execution_count": 1041,
   "outputs": [
    {
     "name": "stdout",
     "output_type": "stream",
     "text": [
      "Tak, są to:\n",
      "[105, 10]\n"
     ]
    }
   ],
   "source": [
    "import numpy as np\n",
    "# wyliczam wartości które wystają poza przedział [Q1 - 1.5 * IQR , Q3 + 1,5*IQR]\n",
    "# gdzie IQR = Q3 - Q1\n",
    "print(\"Tak, są to:\")\n",
    "def wartosci_odsatjace(X):\n",
    "    q3, q1 = np.percentile(X, [75, 25])\n",
    "    iqr = q3 - q1\n",
    "    q = np.quantile(X, [0.25, 0.5, 0.75])\n",
    "    return [i for i in X if (i < + q[0] - 1.5 * iqr or i > 1.5 * iqr + q[2])]\n",
    "print(wartosci_odsatjace(X))"
   ],
   "metadata": {
    "collapsed": false,
    "pycharm": {
     "name": "#%%\n"
    }
   }
  },
  {
   "cell_type": "markdown",
   "source": [
    "#### c)"
   ],
   "metadata": {
    "collapsed": false
   }
  },
  {
   "cell_type": "code",
   "execution_count": 1042,
   "outputs": [
    {
     "name": "stdout",
     "output_type": "stream",
     "text": [
      "[43 37 50 51 58 52 45 45]\n",
      "średnia:  47.625\n",
      "mediana:  47.5\n",
      "odchylenie standardowe:  6.040229714174784\n",
      "kwartyle:  [44.5  47.5  51.25]\n"
     ]
    }
   ],
   "source": [
    "import numpy as np\n",
    "# Usuwam wartości odstające i wyliczam parametry wedle podpunktu a)\n",
    "X1 = X[~np.in1d(X, wartosci_odsatjace(X))]\n",
    "print(X1)\n",
    "param(X1)"
   ],
   "metadata": {
    "collapsed": false,
    "pycharm": {
     "name": "#%%\n"
    }
   }
  },
  {
   "cell_type": "markdown",
   "source": [
    "#### d)\n",
    "Średnia, odchylenie standardowe i kwartyle 1 i 3 są wrażliwe na wartości odstające, w przeciwieństwie do mediany(jako kwartyl 2)"
   ],
   "metadata": {
    "collapsed": false,
    "pycharm": {
     "name": "#%% md\n"
    }
   }
  },
  {
   "cell_type": "markdown",
   "source": [
    "# Zadanie 6\n",
    "Zestaw 8 zadanie komputerowe\n",
    "\n",
    "Napisz program, który będzie ilustrował Centralne Twierdzenie Graniczne\n",
    "poprzez symulację rozkładu sumy 𝑛 zmiennych losowych, z których każda przyjmuj wartość 0, 1, 2, 3\n",
    "lub 4.\n",
    "\n",
    "Program na wejściu dostaje 𝑛 oraz rozkład zmiennych $X_i , 𝑖 = 1, … , 𝑛 $\n",
    "\n",
    "tzn. wartości 𝑝(0), ...,𝑝(4), a na wyjściu rysuje wykres rozkładu prawdopodobieństwa zmiennej\n",
    "$\\\\ Y = \\sum_{i=1}^n X_i\\\\ $\n",
    "(np. poprzez symulację 1000 generacji zmiennej 𝑌).\n",
    "\n",
    "Wykonaj eksperymenty dla 𝑛 = 5, 10, 25, 100 i dla dowolnego\n",
    "rozkładu (np. 𝑝(0) = 0.25, 𝑝(1) = 0.15, 𝑝(2) = 0.1, 𝑝(3) = 0.2, 𝑝(4) = 0.3). Zaobserwuj, jak rozkład\n",
    "zbliża się do normalnego wraz ze wzrostem 𝑛."
   ],
   "metadata": {
    "collapsed": false
   }
  },
  {
   "cell_type": "code",
   "execution_count": 1043,
   "outputs": [
    {
     "data": {
      "text/plain": "<Figure size 432x288 with 1 Axes>",
      "image/png": "[encoded data removed]"
     },
     "metadata": {
      "needs_background": "light"
     },
     "output_type": "display_data"
    },
    {
     "data": {
      "text/plain": "<Figure size 432x288 with 1 Axes>",
      "image/png": "[encoded data removed]"
     },
     "metadata": {
      "needs_background": "light"
     },
     "output_type": "display_data"
    },
    {
     "data": {
      "text/plain": "<Figure size 432x288 with 1 Axes>",
      "image/png": "[encoded data removed]"
     },
     "metadata": {
      "needs_background": "light"
     },
     "output_type": "display_data"
    },
    {
     "data": {
      "text/plain": "<Figure size 432x288 with 1 Axes>",
      "image/png": "[encoded data removed]"
     },
     "metadata": {
      "needs_background": "light"
     },
     "output_type": "display_data"
    },
    {
     "data": {
      "text/plain": "<Figure size 432x288 with 1 Axes>",
      "image/png": "[encoded data removed]"
     },
     "metadata": {
      "needs_background": "light"
     },
     "output_type": "display_data"
    }
   ],
   "source": [
    "import random\n",
    "import matplotlib.pyplot as plt\n",
    "import numpy as np\n",
    "# Dla każdej z wartości n z listy N dokonuję 1000 losowań\n",
    "# Losuję po n wartości ze zbioru 5 prawdopodobieństw, a ich sumę dodaję do listy\n",
    "# Otrzymane 1000 wyników wizualizuję na histogramie\n",
    "# Otrzymując wykresy coraz bardziej zbliżone do rozkładu normalnego\n",
    "N = [5, 10, 25, 100,1000]\n",
    "P = [0.25,0.15,0.1,0.2,0.3]\n",
    "\n",
    "def CTG_symulacja(n, probabilities):\n",
    "    l=[]\n",
    "    for k in range(1000):\n",
    "        l.append(sum(random.choices(probabilities,k=n)))\n",
    "    plt.hist(l,density=True)\n",
    "    plt.show()\n",
    "for n in N:\n",
    "    CTG_symulacja(n,P)"
   ],
   "metadata": {
    "collapsed": false,
    "pycharm": {
     "name": "#%%\n"
    }
   }
  },
  {
   "cell_type": "markdown",
   "source": [
    "# Zadanie 7\n",
    "Poniższy zbiór danych pokazuje populację Stanów Zjednoczonych (w\n",
    "milionach osób) od roku 1790:\n",
    "#### Rok 1790 1800 1810 1820 1830 1840 1850 1860 1870 1880 1890 1900\n",
    "#### Popul. 3.9 5.3 7.2 9.6 12.9 17.1 23.2 31.4 38.6 50.2 63.0 76.2\n",
    "#### Rok 1910 1920 1930 1940 1950 1960 1970 1980 1990 2000 2010\n",
    "#### Popul. 92.2 106.0 123.2 132.2 151.3 179.3 203.3 226.5 248.7 281.4 308.7\n",
    "\n",
    "- a) Skonstruuj wykres przebiegu dla tego zbioru danych i skomentuj go, tzn.: jaki rodzaj trendu\n",
    "widzisz? Jakie informacje mogą być uzyskane na podstawie tego wykresu?\n",
    "- b) Oblicz 10-letnie przyrosty populacji: 𝑥1 = 5.3 − 3.9, 𝑥2 = 7.2 − 5.3 itd. Oblicz średnią,\n",
    "medianę i wariancję z próby dla tych przyrostów. Skomentuj jak populacja USA zmienia się w\n",
    "ciągu dekady.\n",
    "- c) Skonstruuj wykres przebiegu dla przyrostów i przedyskutuj zaobserwowany wzorzec.\n",
    "- d) Oblicz relatywne 10-letnie przyrosty: 𝑦1 =\n",
    "5.3−3.9/\n",
    "3.9\n",
    ", 𝑦2 =\n",
    "7.2−5.3/\n",
    "5.3\n",
    "itd. Oblicz średnią, medianę i\n",
    "wariancję z próby dla relatywnych 10-letnich przyrostów.\n",
    "- e) Skonstruuj wykres przebiegu dla relatywnych przyrostów. Jaki trend widzisz teraz?\n",
    "- f) Porównaj wykresy z punktów c) i e). Jakiego rodzaju korelacji pomiędzy 𝑥𝑖 a 𝑦𝑖 można się\n",
    "spodziewać na podstawie porównania tych wykresów?\n",
    "- g) Oblicz współczynnik korelacji 𝑟 =\n",
    "∑(𝑥𝑖−𝑥̅)(𝑦𝑖−𝑦̅)/(𝑛−1)\n",
    "𝑠𝑥𝑠𝑦\n",
    ". Jak wytłumaczysz to zjawisko?"
   ],
   "metadata": {
    "collapsed": false,
    "pycharm": {
     "name": "#%% md\n"
    }
   }
  },
  {
   "cell_type": "code",
   "execution_count": 1044,
   "outputs": [],
   "source": [
    "import  pandas as pd\n",
    "import numpy as np\n",
    "import matplotlib.pyplot as plt\n",
    "import statistics\n",
    "d = {\"Rok\":[1790 ,1800, 1810, 1820, 1830, 1840, 1850, 1860, 1870, 1880, 1890, 1900,1910, 1920, 1930, 1940, 1950, 1960, 1970, 1980, 1990, 2000, 2010],\n",
    "     \"Populacja\":[3.9, 5.3 ,7.2, 9.6 ,12.9 ,17.1 ,23.2 ,31.4 ,38.6 ,50.2 ,63.0 ,76.2 ,92.2 ,106.0, 123.2 ,132.2 ,151.3 ,179.3 ,203.3 ,226.5 ,248.7 ,281.4 ,308.7]\n",
    "     }\n",
    "df = pd.DataFrame(d)"
   ],
   "metadata": {
    "collapsed": false,
    "pycharm": {
     "name": "#%%\n"
    }
   }
  },
  {
   "cell_type": "markdown",
   "source": [
    "### a)"
   ],
   "metadata": {
    "collapsed": false,
    "pycharm": {
     "name": "#%% md\n"
    }
   }
  },
  {
   "cell_type": "code",
   "execution_count": 1045,
   "outputs": [
    {
     "data": {
      "text/plain": "<Figure size 432x288 with 1 Axes>",
      "image/png": "[encoded data removed]"
     },
     "metadata": {
      "needs_background": "light"
     },
     "output_type": "display_data"
    },
    {
     "name": "stdout",
     "output_type": "stream",
     "text": [
      "Tendencja jest wzrostowa, populacja rośnie\n"
     ]
    }
   ],
   "source": [
    "df.plot(x='Rok',y='Populacja')\n",
    "plt.show()\n",
    "print('Tendencja jest wzrostowa, populacja rośnie')"
   ],
   "metadata": {
    "collapsed": false,
    "pycharm": {
     "name": "#%%\n"
    }
   }
  },
  {
   "cell_type": "markdown",
   "source": [
    "### b)"
   ],
   "metadata": {
    "collapsed": false,
    "pycharm": {
     "name": "#%% md\n"
    }
   }
  },
  {
   "cell_type": "code",
   "execution_count": 1046,
   "outputs": [
    {
     "name": "stdout",
     "output_type": "stream",
     "text": [
      "[ 1.4  1.9  2.4  3.3  4.2  6.1  8.2  7.2 11.6 12.8 13.2 16.  13.8 17.2\n",
      "  9.  19.1 28.  24.  23.2 22.2 32.7 27.3]\n",
      "średnia:  13.854545454545455\n",
      "mediana:  13.0\n",
      "wariancja:  83.62157024793386\n"
     ]
    }
   ],
   "source": [
    "X = df['Populacja'].diff().to_numpy()[1:]\n",
    "print(X)\n",
    "print(\"średnia: \",np.mean(X))\n",
    "print(\"mediana: \",np.median(X))\n",
    "print(\"wariancja: \",np.var(X))"
   ],
   "metadata": {
    "collapsed": false,
    "pycharm": {
     "name": "#%%\n"
    }
   }
  },
  {
   "cell_type": "markdown",
   "source": [
    "### c)"
   ],
   "metadata": {
    "collapsed": false,
    "pycharm": {
     "name": "#%% md\n"
    }
   }
  },
  {
   "cell_type": "code",
   "execution_count": 1047,
   "outputs": [
    {
     "data": {
      "text/plain": "<Figure size 432x288 with 1 Axes>",
      "image/png": "[encoded data removed]"
     },
     "metadata": {
      "needs_background": "light"
     },
     "output_type": "display_data"
    },
    {
     "name": "stdout",
     "output_type": "stream",
     "text": [
      "Przyrosty mają tendencję rosnącą, z pewnymi odchyleniami\n"
     ]
    }
   ],
   "source": [
    "X1 = df['Populacja'].diff()[1:]\n",
    "X1.plot()\n",
    "plt.show()\n",
    "print(\"Przyrosty mają tendencję rosnącą, z pewnymi odchyleniami\")"
   ],
   "metadata": {
    "collapsed": false,
    "pycharm": {
     "name": "#%%\n"
    }
   }
  },
  {
   "cell_type": "markdown",
   "source": [
    "### d)"
   ],
   "metadata": {
    "collapsed": false,
    "pycharm": {
     "name": "#%% md\n"
    }
   }
  },
  {
   "cell_type": "code",
   "execution_count": 1048,
   "outputs": [
    {
     "name": "stdout",
     "output_type": "stream",
     "text": [
      "[ 1.4  1.9  2.4  3.3  4.2  6.1  8.2  7.2 11.6 12.8 13.2 16.  13.8 17.2\n",
      "  9.  19.1 28.  24.  23.2 22.2 32.7 27.3]\n",
      "średnia:  0.22380057356285804\n",
      "mediana:  0.20974878140232472\n",
      "wariancja:  0.009784453545810657\n"
     ]
    }
   ],
   "source": [
    "Y = df['Populacja'].diff().to_numpy()[1:]\n",
    "Y = [Y[i]/d['Populacja'][i] for i in  range(Y.size)]\n",
    "print(X)\n",
    "print(\"średnia: \",np.mean(Y))\n",
    "print(\"mediana: \",np.median(Y))\n",
    "print(\"wariancja: \",np.var(Y))"
   ],
   "metadata": {
    "collapsed": false,
    "pycharm": {
     "name": "#%%\n"
    }
   }
  },
  {
   "cell_type": "markdown",
   "source": [
    "### e)"
   ],
   "metadata": {
    "collapsed": false
   }
  },
  {
   "cell_type": "code",
   "execution_count": 1049,
   "outputs": [
    {
     "data": {
      "text/plain": "<Figure size 432x288 with 1 Axes>",
      "image/png": "[encoded data removed]"
     },
     "metadata": {
      "needs_background": "light"
     },
     "output_type": "display_data"
    },
    {
     "name": "stdout",
     "output_type": "stream",
     "text": [
      "Przyrosty relatywne mają tendencję malejącą\n"
     ]
    }
   ],
   "source": [
    "pd.DataFrame(Y).plot()\n",
    "plt.show()\n",
    "print(\"Przyrosty relatywne mają tendencję malejącą\")"
   ],
   "metadata": {
    "collapsed": false,
    "pycharm": {
     "name": "#%%\n"
    }
   }
  },
  {
   "cell_type": "markdown",
   "source": [
    "### f)"
   ],
   "metadata": {
    "collapsed": false
   }
  },
  {
   "cell_type": "code",
   "execution_count": 1050,
   "outputs": [
    {
     "name": "stdout",
     "output_type": "stream",
     "text": [
      "Korelacji ujemnej\n"
     ]
    }
   ],
   "source": [
    "print(\"Należy spodziewać się ujemnego współczynnika korelacji\")"
   ],
   "metadata": {
    "collapsed": false,
    "pycharm": {
     "name": "#%%\n"
    }
   }
  },
  {
   "cell_type": "markdown",
   "source": [
    "### g)"
   ],
   "metadata": {
    "collapsed": false
   }
  },
  {
   "cell_type": "code",
   "execution_count": 1051,
   "outputs": [
    {
     "name": "stdout",
     "output_type": "stream",
     "text": [
      "-0.7884204073309351\n"
     ]
    },
    {
     "data": {
      "text/plain": "array([[ 1.        , -0.78842041],\n       [-0.78842041,  1.        ]])"
     },
     "execution_count": 1051,
     "metadata": {},
     "output_type": "execute_result"
    }
   ],
   "source": [
    "#Średnie\n",
    "xm=np.mean(X)\n",
    "ym=np.mean(Y)\n",
    "r =0\n",
    "# Licząc wprost ze wzoru\n",
    "for i in range(X.size):\n",
    "    r+=(X[i]-xm)*(Y[i]-ym)/((X.size -1)*statistics.stdev(X)*statistics.stdev(Y))\n",
    "print(r)\n",
    "# Używając macierzy korealcji Pearsona\n",
    "np.corrcoef(X,Y)"
   ],
   "metadata": {
    "collapsed": false,
    "pycharm": {
     "name": "#%%\n"
    }
   }
  }
 ],
 "metadata": {
  "kernelspec": {
   "name": "pycharm-22be031a",
   "language": "python",
   "display_name": "PyCharm (Projekt-PSI)"
  },
  "language_info": {
   "codemirror_mode": {
    "name": "ipython",
    "version": 2
   },
   "file_extension": ".py",
   "mimetype": "text/x-python",
   "name": "python",
   "nbconvert_exporter": "python",
   "pygments_lexer": "ipython2",
   "version": "2.7.6"
  }
 },
 "nbformat": 4,
 "nbformat_minor": 0
}