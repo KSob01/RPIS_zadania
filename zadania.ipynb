{
 "cells": [
  {
   "cell_type": "markdown",
   "metadata": {
    "collapsed": true,
    "pycharm": {
     "name": "#%% md\n"
    }
   },
   "source": [
    "# Zadanie 1\n",
    "## Zestaw 7 zadanie komputerowe 1\n",
    "Zadanie komputerowe 1. Załóż, że dysponujesz generatorem liczb losowych U z rozkładem\n",
    "równomiernym na (0, 1). Używając tego rozkładu zaprojektuj algorytm realizujący generator liczb\n",
    "losowych z rozkładem:\n",
    "#### a) Bernoulliego z parametrem p\n",
    "#### b) Dwumianowy z parametrami n, p"
   ]
  },
  {
   "cell_type": "code",
   "execution_count": 1,
   "outputs": [],
   "source": [
    "from math import exp, factorial\n",
    "\n",
    "import numpy as np\n",
    "from scipy.stats import uniform, sem\n",
    "from scipy.special import binom"
   ],
   "metadata": {
    "collapsed": false,
    "pycharm": {
     "name": "#%%\n"
    }
   }
  },
  {
   "cell_type": "markdown",
   "source": [
    "#### a)"
   ],
   "metadata": {
    "collapsed": false,
    "pycharm": {
     "name": "#%% md\n"
    }
   }
  },
  {
   "cell_type": "code",
   "execution_count": 733,
   "outputs": [
    {
     "data": {
      "text/plain": "[0, 0, 0, 1]"
     },
     "execution_count": 733,
     "metadata": {},
     "output_type": "execute_result"
    }
   ],
   "source": [
    "def bernoulli(p, s):\n",
    "    return [ 1 if i<=p else 0 for i in uniform.rvs(loc=0,scale=1,size=s)]\n",
    "bernoulli(0.25,4)"
   ],
   "metadata": {
    "collapsed": false,
    "pycharm": {
     "name": "#%%\n"
    }
   }
  },
  {
   "cell_type": "markdown",
   "source": [
    "#### b)"
   ],
   "metadata": {
    "collapsed": false
   }
  },
  {
   "cell_type": "code",
   "execution_count": 734,
   "outputs": [
    {
     "data": {
      "text/plain": "[4, 3, 2, 3]"
     },
     "execution_count": 734,
     "metadata": {},
     "output_type": "execute_result"
    }
   ],
   "source": [
    "def dwumianowy(n,p,s):\n",
    "    return [np.sum(uniform.rvs(loc=0,scale=1,size=n)<=p) for _ in range(s)]\n",
    "dwumianowy(9,0.3,4)"
   ],
   "metadata": {
    "collapsed": false,
    "pycharm": {
     "name": "#%%\n"
    }
   }
  },
  {
   "cell_type": "markdown",
   "source": [
    "# Zadanie 2\n",
    "## Zestaw 4 zadanie 12\n",
    " Napisz program, który będzie obliczał skumulowaną funkcję rozkładu dla\n",
    "zmiennej o rozkładzie dwumianowym, tzn. wartość\n",
    "#### $$𝑃\\{𝑋 ≤ 𝑖\\} = \\sum_{k=0}^i\\binom{n}{k}p^k(1-p)^{n-k} \\; dla\\; i=0,1,...,n \\\\ $$\n",
    "W tym celu oblicz i wykorzystaj zależność pomiędzy 𝑃{𝑋 = 𝑘 + 1} a 𝑃{𝑋 = 𝑘}, tzn. użyj tej\n",
    "zależności rekurencyjnej do obliczania kolejnych 𝑃{𝑋 = 𝑖}."
   ],
   "metadata": {
    "collapsed": false
   }
  },
  {
   "cell_type": "code",
   "execution_count": 735,
   "outputs": [
    {
     "data": {
      "text/plain": "0.8058956499999996"
     },
     "execution_count": 735,
     "metadata": {},
     "output_type": "execute_result"
    }
   ],
   "source": [
    "def dwumianowy_skumulowany(i,n,p):\n",
    "    if i== 0:\n",
    "        return pow(1- p,n)\n",
    "    else:\n",
    "        return binom(n,i)*pow(p,i)*pow(1-p,n-i) + dwumianowy_skumulowany(i-1,n,p)\n",
    "dwumianowy_skumulowany(3,8,0.3)"
   ],
   "metadata": {
    "collapsed": false,
    "pycharm": {
     "name": "#%%\n"
    }
   }
  },
  {
   "cell_type": "markdown",
   "source": [
    "# Zadanie 3\n",
    "## Zestaw 4 zadanie 13\n",
    "Napisz program analogiczny do tego z zadania 1, ale dla rozkładu\n",
    "Poissona. Oblicz w analogiczny sposób zależność między\n",
    "#### 𝑃{𝑋 = 𝑖 + 1} a 𝑃{𝑋 = 𝑖}\n",
    "i wykorzystaj zależność rekurencyjną."
   ],
   "metadata": {
    "collapsed": false
   }
  },
  {
   "cell_type": "code",
   "execution_count": 736,
   "outputs": [
    {
     "data": {
      "text/plain": "0.9473469826562889"
     },
     "execution_count": 736,
     "metadata": {},
     "output_type": "execute_result"
    }
   ],
   "source": [
    "def poisson_skumulowany(i,l):\n",
    "    if i== -1:\n",
    "            return 0\n",
    "    else:\n",
    "        return (pow(l,i)*exp(-l))/factorial(i) + poisson_skumulowany(i-1,l)\n",
    "poisson_skumulowany(4,2)"
   ],
   "metadata": {
    "collapsed": false,
    "pycharm": {
     "name": "#%%\n"
    }
   }
  },
  {
   "cell_type": "markdown",
   "source": [
    "# Zadanie 4\n",
    "### Zestaw 10 zadanie 6\n",
    "Dostawca usług internetowych bada obciążenie sieci. Liczba jednoczesnych\n",
    "użytkowników w 50 lokalizacjach wynosi (w tysiącach):\n",
    "\n",
    "17.2, 22.1, 18.5, 17.2, 18.6, 14.8, 21.7, 15.8, 16.3, 22.8, 24.1, 13.3, 16.2, 17.5, 19.0, 23.9, 14.8, 22.2,\n",
    "21.7, 20.7, 13.5, 15.8, 13.1, 16.1, 21.9, 23.9, 19.3, 12.0, 19.9, 19.4, 15.4, 16.7, 19.5, 16.2, 16.9, 17.1,\n",
    "20.2, 13.4, 19.8, 17.7, 19.7, 18.7, 17.6, 15.9, 15.2, 17.1, 15.0, 18.8, 21.6, 11.9.\n",
    "\n",
    "a) Oblicz średnią, wariancję i odchylenie z próby.\n",
    "\n",
    "b) Oszacuj błąd standardowy średniej z próby.\n",
    "\n",
    "c) Oblicz pięciopunktowe podsumowanie i skonstruuj wykres-pudełko (polecenia summary,\n",
    "boxplot w R).\n",
    "\n",
    "d) Oblicz rozstęp międzykwartylowy; czy w próbie są jakieś wartości odstające?\n",
    "\n",
    "e) Zaraportowano, że liczba jednoczesnych użytkowników podlega rozkładowi normalnemu; czy\n",
    "histogram wspiera to stwierdzenie?"
   ],
   "metadata": {
    "collapsed": false
   }
  },
  {
   "cell_type": "code",
   "execution_count": 737,
   "outputs": [],
   "source": [
    "X = np.array([17.2, 22.1, 18.5, 17.2, 18.6, 14.8, 21.7, 15.8, 16.3, 22.8, 24.1, 13.3, 16.2, 17.5, 19.0, 23.9, 14.8, 22.2,\n",
    "21.7, 20.7, 13.5, 15.8, 13.1, 16.1, 21.9, 23.9, 19.3, 12.0, 19.9, 19.4, 15.4, 16.7, 19.5, 16.2, 16.9, 17.1,\n",
    "20.2, 13.4, 19.8, 17.7, 19.7, 18.7, 17.6, 15.9, 15.2, 17.1, 15.0, 18.8, 21.6, 11.9])"
   ],
   "metadata": {
    "collapsed": false,
    "pycharm": {
     "name": "#%%\n"
    }
   }
  },
  {
   "cell_type": "markdown",
   "source": [
    "#### a)"
   ],
   "metadata": {
    "collapsed": false
   }
  },
  {
   "cell_type": "code",
   "execution_count": 738,
   "outputs": [
    {
     "name": "stdout",
     "output_type": "stream",
     "text": [
      "średnia:  17.954\n",
      "wariancja:  9.768884\n",
      "odchylenie:  3.1255213965033097\n"
     ]
    }
   ],
   "source": [
    "print(\"średnia: \" ,X.mean())\n",
    "print('wariancja: ',X.var())\n",
    "print(\"odchylenie: \",X.std())"
   ],
   "metadata": {
    "collapsed": false,
    "pycharm": {
     "name": "#%%\n"
    }
   }
  },
  {
   "cell_type": "markdown",
   "source": [
    "#### b)"
   ],
   "metadata": {
    "collapsed": false
   }
  },
  {
   "cell_type": "code",
   "execution_count": 739,
   "outputs": [
    {
     "name": "stdout",
     "output_type": "stream",
     "text": [
      "błąd średniej próby:  0.44650305664332995\n"
     ]
    }
   ],
   "source": [
    "print(\"błąd średniej próby: \" ,sem(X))"
   ],
   "metadata": {
    "collapsed": false,
    "pycharm": {
     "name": "#%%\n"
    }
   }
  },
  {
   "cell_type": "markdown",
   "source": [
    "#### c)"
   ],
   "metadata": {
    "collapsed": false
   }
  },
  {
   "cell_type": "code",
   "execution_count": 739,
   "outputs": [],
   "source": [],
   "metadata": {
    "collapsed": false,
    "pycharm": {
     "name": "#%%"
    }
   }
  }
 ],
 "metadata": {
  "kernelspec": {
   "name": "python3",
   "language": "python",
   "display_name": "Python 3 (ipykernel)"
  },
  "language_info": {
   "codemirror_mode": {
    "name": "ipython",
    "version": 2
   },
   "file_extension": ".py",
   "mimetype": "text/x-python",
   "name": "python",
   "nbconvert_exporter": "python",
   "pygments_lexer": "ipython2",
   "version": "2.7.6"
  }
 },
 "nbformat": 4,
 "nbformat_minor": 0
}