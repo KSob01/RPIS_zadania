{
 "cells": [
  {
   "cell_type": "markdown",
   "metadata": {
    "collapsed": true,
    "pycharm": {
     "name": "#%% md\n"
    }
   },
   "source": [
    "# Zadanie 1\n",
    "## Zestaw 7 zadanie komputerowe 1\n",
    "Zadanie komputerowe 1. Załóż, że dysponujesz generatorem liczb losowych U z rozkładem\n",
    "równomiernym na (0, 1). Używając tego rozkładu zaprojektuj algorytm realizujący generator liczb\n",
    "losowych z rozkładem:\n",
    "#### a) Bernoulliego z parametrem p\n",
    "#### b) Dwumianowy z parametrami n, p"
   ]
  },
  {
   "cell_type": "markdown",
   "source": [
    "#### a)"
   ],
   "metadata": {
    "collapsed": false,
    "pycharm": {
     "name": "#%% md\n"
    }
   }
  },
  {
   "cell_type": "code",
   "execution_count": 161,
   "outputs": [
    {
     "data": {
      "text/plain": "[0, 0, 1, 0]"
     },
     "execution_count": 161,
     "metadata": {},
     "output_type": "execute_result"
    }
   ],
   "source": [
    "from scipy.stats import uniform\n",
    "def bernoulli(p, s):\n",
    "    return [1 if i <= p else 0 for i in uniform.rvs(loc=0, scale=1, size=s)]\n",
    "# Aby wylosować s elementów o rozkładzie bernoulliego z prawdopodobieństwem p\n",
    "# Dla pojedynczej liczby losowana jest wartość z przedziału (0,1)\n",
    "# Za sukces przyjmowane jest wylosowanie wartości <= p\n",
    "\n",
    "bernoulli(0.25, 4)"
   ],
   "metadata": {
    "collapsed": false,
    "pycharm": {
     "name": "#%%\n"
    }
   }
  },
  {
   "cell_type": "markdown",
   "source": [
    "#### b)"
   ],
   "metadata": {
    "collapsed": false
   }
  },
  {
   "cell_type": "code",
   "execution_count": 162,
   "outputs": [
    {
     "data": {
      "text/plain": "[3, 4, 2, 3]"
     },
     "execution_count": 162,
     "metadata": {},
     "output_type": "execute_result"
    }
   ],
   "source": [
    "import numpy as np\n",
    "from scipy.stats import uniform\n",
    "def dwumianowy(n, p, s):\n",
    "    return [np.sum(uniform.rvs(loc=0, scale=1, size=n) <= p) for _ in range(s)]\n",
    "\n",
    "# Aby wylosować s elementów o rozkładzie dwumianowym z prawdopodobieństwem p przy n próbach\n",
    "# dla pojedyczej liczby lososane jest n liczb z rozkładu równomiernego (0,1)\n",
    "# sumujemy liczbę zwycięstw gdzie za zwycięstwo uzanwane jest wylosowanie wartości <= p\n",
    "\n",
    "\n",
    "dwumianowy(9, 0.3, 4)"
   ],
   "metadata": {
    "collapsed": false,
    "pycharm": {
     "name": "#%%\n"
    }
   }
  },
  {
   "cell_type": "markdown",
   "source": [
    "# Zadanie 2\n",
    "## Zestaw 4 zadanie 12\n",
    " Napisz program, który będzie obliczał skumulowaną funkcję rozkładu dla\n",
    "zmiennej o rozkładzie dwumianowym, tzn. wartość\n",
    "#### $$𝑃\\{𝑋 ≤ 𝑖\\} = \\sum_{k=0}^i\\binom{n}{k}p^k(1-p)^{n-k} \\; dla\\; i=0,1,...,n \\\\ $$\n",
    "W tym celu oblicz i wykorzystaj zależność pomiędzy 𝑃{𝑋 = 𝑘 + 1} a 𝑃{𝑋 = 𝑘}, tzn. użyj tej\n",
    "zależności rekurencyjnej do obliczania kolejnych 𝑃{𝑋 = 𝑖}."
   ],
   "metadata": {
    "collapsed": false
   }
  },
  {
   "cell_type": "code",
   "execution_count": 163,
   "outputs": [
    {
     "data": {
      "text/plain": "0.8058956499999996"
     },
     "execution_count": 163,
     "metadata": {},
     "output_type": "execute_result"
    }
   ],
   "source": [
    "from scipy.special import binom\n",
    "def dwumianowy_skumulowany(i, n, p):\n",
    "    if i == 0:\n",
    "        return pow(1 - p, n)\n",
    "    else:\n",
    "        return binom(n, i) * pow(p, i) * pow(1 - p, n - i) + dwumianowy_skumulowany(i - 1, n, p)\n",
    "# Aby policzyć skumulowaną funkcję rozkładu zmiennej wywołujemy rekurencyjnie funkcję\n",
    "# korzystamy z własności P{X<=i} = P{X<i}+P{X=i}\n",
    "# n jest to stała oznaczająca liczbę prób, p jest to prawdopodobieństwo zwycięstwa dla pojedynczej próby\n",
    "\n",
    "#Można tę funkcję zamienić na iteracyjną, otrzymamy tą samą złożoność\n",
    "\n",
    "dwumianowy_skumulowany(3, 8, 0.3)"
   ],
   "metadata": {
    "collapsed": false,
    "pycharm": {
     "name": "#%%\n"
    }
   }
  },
  {
   "cell_type": "markdown",
   "source": [
    "# Zadanie 3\n",
    "## Zestaw 4 zadanie 13\n",
    "Napisz program analogiczny do tego z zadania 1, ale dla rozkładu\n",
    "Poissona. Oblicz w analogiczny sposób zależność między\n",
    "#### 𝑃{𝑋 = 𝑖 + 1} a 𝑃{𝑋 = 𝑖}\n",
    "i wykorzystaj zależność rekurencyjną."
   ],
   "metadata": {
    "collapsed": false
   }
  },
  {
   "cell_type": "code",
   "execution_count": 164,
   "outputs": [
    {
     "data": {
      "text/plain": "0.9473469826562889"
     },
     "execution_count": 164,
     "metadata": {},
     "output_type": "execute_result"
    }
   ],
   "source": [
    "from math import exp, factorial\n",
    "def poisson_skumulowany(i, l):\n",
    "    if i == -1:\n",
    "        return 0\n",
    "    else:\n",
    "        return (pow(l, i) * exp(-l)) / factorial(i) + poisson_skumulowany(i - 1, l)\n",
    "# Aby policzyć skumulowaną funkcję rozkładu zmiennej wywołujemy rekurencyjnie funkcję\n",
    "# korzystamy z własności P{X<=i} = P{X<i}+P{X=i}\n",
    "# l jest to stała oznaczająca oczekiwaną liczbę zdarzeń w danym przedziale czasu,\n",
    "# a i jest to wartość oznaczającą liczbę wystąpień zdarzenia\n",
    "\n",
    "#Można tę funkcję zamienić na iteracyjną, otrzymamy tą samą złożoność\n",
    "poisson_skumulowany(4, 2)"
   ],
   "metadata": {
    "collapsed": false,
    "pycharm": {
     "name": "#%%\n"
    }
   }
  },
  {
   "cell_type": "markdown",
   "source": [
    "# Zadanie 4\n",
    "### Zestaw 10 zadanie 6\n",
    "Dostawca usług internetowych bada obciążenie sieci. Liczba jednoczesnych\n",
    "użytkowników w 50 lokalizacjach wynosi (w tysiącach):\n",
    "\n",
    "17.2, 22.1, 18.5, 17.2, 18.6, 14.8, 21.7, 15.8, 16.3, 22.8, 24.1, 13.3, 16.2, 17.5, 19.0, 23.9, 14.8, 22.2,\n",
    "21.7, 20.7, 13.5, 15.8, 13.1, 16.1, 21.9, 23.9, 19.3, 12.0, 19.9, 19.4, 15.4, 16.7, 19.5, 16.2, 16.9, 17.1,\n",
    "20.2, 13.4, 19.8, 17.7, 19.7, 18.7, 17.6, 15.9, 15.2, 17.1, 15.0, 18.8, 21.6, 11.9.\n",
    "\n",
    "a) Oblicz średnią, wariancję i odchylenie z próby.\n",
    "\n",
    "b) Oszacuj błąd standardowy średniej z próby.\n",
    "\n",
    "c) Oblicz pięciopunktowe podsumowanie i skonstruuj wykres-pudełko (polecenia summary,\n",
    "boxplot w R).\n",
    "\n",
    "d) Oblicz rozstęp międzykwartylowy; czy w próbie są jakieś wartości odstające?\n",
    "\n",
    "e) Zaraportowano, że liczba jednoczesnych użytkowników podlega rozkładowi normalnemu; czy\n",
    "histogram wspiera to stwierdzenie?"
   ],
   "metadata": {
    "collapsed": false
   }
  },
  {
   "cell_type": "code",
   "execution_count": 165,
   "outputs": [],
   "source": [
    "import numpy as np\n",
    "\n",
    "X = np.array(\n",
    "    [17.2, 22.1, 18.5, 17.2, 18.6, 14.8, 21.7, 15.8, 16.3, 22.8, 24.1, 13.3, 16.2, 17.5, 19.0, 23.9, 14.8, 22.2,\n",
    "     21.7, 20.7, 13.5, 15.8, 13.1, 16.1, 21.9, 23.9, 19.3, 12.0, 19.9, 19.4, 15.4, 16.7, 19.5, 16.2, 16.9, 17.1,\n",
    "     20.2, 13.4, 19.8, 17.7, 19.7, 18.7, 17.6, 15.9, 15.2, 17.1, 15.0, 18.8, 21.6, 11.9])"
   ],
   "metadata": {
    "collapsed": false,
    "pycharm": {
     "name": "#%%\n"
    }
   }
  },
  {
   "cell_type": "markdown",
   "source": [
    "#### a)"
   ],
   "metadata": {
    "collapsed": false
   }
  },
  {
   "cell_type": "code",
   "execution_count": 166,
   "outputs": [
    {
     "name": "stdout",
     "output_type": "stream",
     "text": [
      "średnia:  17.954\n",
      "wariancja:  9.768884\n",
      "odchylenie:  3.1255213965033097\n"
     ]
    }
   ],
   "source": [
    "print(\"średnia: \", X.mean())\n",
    "print('wariancja: ', X.var())\n",
    "print(\"odchylenie: \", X.std())"
   ],
   "metadata": {
    "collapsed": false,
    "pycharm": {
     "name": "#%%\n"
    }
   }
  },
  {
   "cell_type": "markdown",
   "source": [
    "#### b)"
   ],
   "metadata": {
    "collapsed": false
   }
  },
  {
   "cell_type": "code",
   "execution_count": 167,
   "outputs": [
    {
     "name": "stdout",
     "output_type": "stream",
     "text": [
      "błąd średniej próby:  0.44650305664332995\n"
     ]
    }
   ],
   "source": [
    "from scipy.stats import sem\n",
    "print(\"błąd średniej próby: \", sem(X))"
   ],
   "metadata": {
    "collapsed": false,
    "pycharm": {
     "name": "#%%\n"
    }
   }
  },
  {
   "cell_type": "markdown",
   "source": [
    "#### c)"
   ],
   "metadata": {
    "collapsed": false
   }
  },
  {
   "cell_type": "code",
   "execution_count": 168,
   "outputs": [
    {
     "name": "stdout",
     "output_type": "stream",
     "text": [
      "Pięciopunktowe podsumowanie:\n",
      "11.9\n",
      "24.1\n",
      "3.1255213965033097\n",
      "17.954\n",
      "17.55\n"
     ]
    },
    {
     "data": {
      "text/plain": "<Figure size 432x288 with 1 Axes>",
      "image/png": "[encoded data removed]"
     },
     "metadata": {
      "needs_background": "light"
     },
     "output_type": "display_data"
    }
   ],
   "source": [
    "import numpy as np\n",
    "import matplotlib.pyplot as plt\n",
    "print(\"Pięciopunktowe podsumowanie:\")\n",
    "print(np.min(X))\n",
    "print(np.max(X))\n",
    "print(np.std(X))\n",
    "print(np.mean(X))\n",
    "print(np.median(X))\n",
    "plt.boxplot(X)\n",
    "plt.show()"
   ],
   "metadata": {
    "collapsed": false,
    "pycharm": {
     "name": "#%%"
    }
   }
  },
  {
   "cell_type": "markdown",
   "source": [
    "#### d)"
   ],
   "metadata": {
    "collapsed": false
   }
  },
  {
   "cell_type": "code",
   "execution_count": 169,
   "outputs": [
    {
     "name": "stdout",
     "output_type": "stream",
     "text": [
      "4.049999999999999\n"
     ]
    }
   ],
   "source": [
    "import numpy as np\n",
    "q3, q1 = np.percentile(X, [75, 25])\n",
    "iqr = q3 - q1\n",
    "print(iqr)"
   ],
   "metadata": {
    "collapsed": false,
    "pycharm": {
     "name": "#%%\n"
    }
   }
  },
  {
   "cell_type": "markdown",
   "source": [
    "#### e)"
   ],
   "metadata": {
    "collapsed": false
   }
  },
  {
   "cell_type": "code",
   "execution_count": 170,
   "outputs": [
    {
     "name": "stdout",
     "output_type": "stream",
     "text": [
      "Histogram nie wspiera tego stwierdzenia\n"
     ]
    },
    {
     "data": {
      "text/plain": "<Figure size 432x288 with 1 Axes>",
      "image/png": "[encoded data removed]"
     },
     "metadata": {
      "needs_background": "light"
     },
     "output_type": "display_data"
    }
   ],
   "source": [
    "#Rysuję histogram gęstości\n",
    "# i wykres gęstości rozkładu normalnego o średniej i odchyleniu standardowym wyliczonym dla zbioru X\n",
    "import numpy as np\n",
    "import matplotlib.pyplot as plt\n",
    "from scipy.stats import  norm\n",
    "print(\"Histogram nie wspiera tego stwierdzenia\")\n",
    "b = int(X.size / 2)\n",
    "mu = X.mean()\n",
    "sigma = X.std()\n",
    "x = np.linspace(mu - 3 * sigma, mu + 3 * sigma, 100)\n",
    "plt.plot(x, norm.pdf(x, mu, sigma))\n",
    "plt.hist(X, bins=b, density=True)\n",
    "plt.show()"
   ],
   "metadata": {
    "collapsed": false,
    "pycharm": {
     "name": "#%%\n"
    }
   }
  },
  {
   "cell_type": "markdown",
   "source": [
    "# Zadanie 5\n",
    "### Zestaw 10 zadanie 8\n",
    "Poniższy zbiór danych reprezentuje liczbę nowych kont komputerowych\n",
    "założonych przez administratora w ciągu 10 kolejnych dni:\n",
    "\n",
    "43, 37, 50, 51, 58, 105, 52, 45, 45, 10.\n",
    "\n",
    "a) Oblicz średnią, medianę, kwartyle i odchylenie standardowe.\n",
    "\n",
    "b) Sprawdź istnienie wartości odstających używając reguły 1.5 𝐼𝑄𝑅.\n",
    "\n",
    "c) Usuń wykryte wartości odstające i ponownie oblicz statystyki z punktu a).\n",
    "\n",
    "d) Przedyskutuj wpływ efektu wartości odstających na statystyki opisowe."
   ],
   "metadata": {
    "collapsed": false
   }
  },
  {
   "cell_type": "code",
   "execution_count": 171,
   "outputs": [],
   "source": [
    "import numpy as np\n",
    "X = np.array([43, 37, 50, 51, 58, 105, 52, 45, 45, 10])"
   ],
   "metadata": {
    "collapsed": false,
    "pycharm": {
     "name": "#%%\n"
    }
   }
  },
  {
   "cell_type": "markdown",
   "source": [
    "#### a)"
   ],
   "metadata": {
    "collapsed": false
   }
  },
  {
   "cell_type": "code",
   "execution_count": 172,
   "outputs": [
    {
     "name": "stdout",
     "output_type": "stream",
     "text": [
      "średnia:  49.6\n",
      "mediana:  47.5\n",
      "odchylenie standardowe:  22.27195545972558\n",
      "kwartyle:  [43.5  47.5  51.75]\n"
     ]
    }
   ],
   "source": [
    "import numpy as np\n",
    "def param(X):\n",
    "    print(\"średnia: \", np.mean(X))\n",
    "    print(\"mediana: \", np.median(X))\n",
    "    print(\"odchylenie standardowe: \", np.std(X))\n",
    "    q = np.quantile(X, [0.25, 0.5, 0.75])\n",
    "    print(\"kwartyle: \", q)\n",
    "param(X)"
   ],
   "metadata": {
    "collapsed": false,
    "pycharm": {
     "name": "#%%\n"
    }
   }
  },
  {
   "cell_type": "markdown",
   "source": [
    "#### b)"
   ],
   "metadata": {
    "collapsed": false
   }
  },
  {
   "cell_type": "code",
   "execution_count": 173,
   "outputs": [
    {
     "name": "stdout",
     "output_type": "stream",
     "text": [
      "Tak, są to:\n",
      "[105, 10]\n"
     ]
    }
   ],
   "source": [
    "import numpy as np\n",
    "# wyliczam wartości które wystają poza przedział [Q1 - 1.5 * IQR , Q3 + 1,5*IQR]\n",
    "# gdzie IQR = Q3 - Q1\n",
    "print(\"Tak, są to:\")\n",
    "def wartosci_odsatjace(X):\n",
    "    q3, q1 = np.percentile(X, [75, 25])\n",
    "    iqr = q3 - q1\n",
    "    q = np.quantile(X, [0.25, 0.5, 0.75])\n",
    "    return [i for i in X if (i < + q[0] - 1.5 * iqr or i > 1.5 * iqr + q[2])]\n",
    "print(wartosci_odsatjace(X))"
   ],
   "metadata": {
    "collapsed": false,
    "pycharm": {
     "name": "#%%\n"
    }
   }
  },
  {
   "cell_type": "markdown",
   "source": [
    "#### c)"
   ],
   "metadata": {
    "collapsed": false
   }
  },
  {
   "cell_type": "code",
   "execution_count": 174,
   "outputs": [
    {
     "name": "stdout",
     "output_type": "stream",
     "text": [
      "[43 37 50 51 58 52 45 45]\n",
      "średnia:  47.625\n",
      "mediana:  47.5\n",
      "odchylenie standardowe:  6.040229714174784\n",
      "kwartyle:  [44.5  47.5  51.25]\n"
     ]
    }
   ],
   "source": [
    "import numpy as np\n",
    "# Usuwam wartości odstające i wyliczam parametry wedle podpunktu a)\n",
    "X1 = X[~np.in1d(X, wartosci_odsatjace(X))]\n",
    "print(X1)\n",
    "param(X1)"
   ],
   "metadata": {
    "collapsed": false,
    "pycharm": {
     "name": "#%%\n"
    }
   }
  },
  {
   "cell_type": "markdown",
   "source": [
    "#### d)\n",
    "Średnia, odchylenie standardowe i kwartyle 1 i 3 są wrażliwe na wartości odstające, w przeciwieństwie do mediany(jako kwartyl 2)"
   ],
   "metadata": {
    "collapsed": false,
    "pycharm": {
     "name": "#%% md\n"
    }
   }
  },
  {
   "cell_type": "markdown",
   "source": [
    "# Zadanie 6\n",
    "Zestaw 8 zadanie komputerowe\n",
    "\n",
    "Napisz program, który będzie ilustrował Centralne Twierdzenie Graniczne\n",
    "poprzez symulację rozkładu sumy 𝑛 zmiennych losowych, z których każda przyjmuj wartość 0, 1, 2, 3\n",
    "lub 4.\n",
    "\n",
    "Program na wejściu dostaje 𝑛 oraz rozkład zmiennych $X_i , 𝑖 = 1, … , 𝑛 $\n",
    "\n",
    "tzn. wartości 𝑝(0), ...,𝑝(4), a na wyjściu rysuje wykres rozkładu prawdopodobieństwa zmiennej\n",
    "$\\\\ Y = \\sum_{i=1}^n X_i\\\\ $\n",
    "(np. poprzez symulację 1000 generacji zmiennej 𝑌).\n",
    "\n",
    "Wykonaj eksperymenty dla 𝑛 = 5, 10, 25, 100 i dla dowolnego\n",
    "rozkładu (np. 𝑝(0) = 0.25, 𝑝(1) = 0.15, 𝑝(2) = 0.1, 𝑝(3) = 0.2, 𝑝(4) = 0.3). Zaobserwuj, jak rozkład\n",
    "zbliża się do normalnego wraz ze wzrostem 𝑛."
   ],
   "metadata": {
    "collapsed": false
   }
  },
  {
   "cell_type": "code",
   "execution_count": 176,
   "outputs": [
    {
     "data": {
      "text/plain": "<Figure size 432x288 with 1 Axes>",
      "image/png": "[encoded data removed]"
     },
     "metadata": {
      "needs_background": "light"
     },
     "output_type": "display_data"
    },
    {
     "data": {
      "text/plain": "<Figure size 432x288 with 1 Axes>",
      "image/png": "[encoded data removed]"
     },
     "metadata": {
      "needs_background": "light"
     },
     "output_type": "display_data"
    },
    {
     "data": {
      "text/plain": "<Figure size 432x288 with 1 Axes>",
      "image/png": "[encoded data removed]"
     },
     "metadata": {
      "needs_background": "light"
     },
     "output_type": "display_data"
    },
    {
     "data": {
      "text/plain": "<Figure size 432x288 with 1 Axes>",
      "image/png": "[encoded data removed]"
     },
     "metadata": {
      "needs_background": "light"
     },
     "output_type": "display_data"
    },
    {
     "data": {
      "text/plain": "<Figure size 432x288 with 1 Axes>",
      "image/png": "[encoded data removed]"
     },
     "metadata": {
      "needs_background": "light"
     },
     "output_type": "display_data"
    }
   ],
   "source": [
    "import random\n",
    "import matplotlib.pyplot as plt\n",
    "import numpy as np\n",
    "# Dla każdej z wartości n z listy N dokonuję 1000 losowań\n",
    "# Losuję po n wartości ze zbioru 5 prawdopodobieństw, a ich sumę dodaję do listy\n",
    "# Otrzymane 1000 wyników wizualizuję na histogramie\n",
    "# Otrzymując wykresy coraz bardziej zbliżone do rozkładu normalnego\n",
    "N = [5, 10, 25, 100,1000]\n",
    "P = [0.25,0.15,0.1,0.2,0.3]\n",
    "\n",
    "def CTG_symulacja(n, probabilities):\n",
    "    l=[]\n",
    "    for k in range(1000):\n",
    "        l.append(sum(random.choices(probabilities,k=n)))\n",
    "    plt.hist(l,density=True)\n",
    "    plt.show()\n",
    "for n in N:\n",
    "    CTG_symulacja(n,P)"
   ],
   "metadata": {
    "collapsed": false,
    "pycharm": {
     "name": "#%%\n"
    }
   }
  }
 ],
 "metadata": {
  "kernelspec": {
   "name": "python3",
   "language": "python",
   "display_name": "Python 3 (ipykernel)"
  },
  "language_info": {
   "codemirror_mode": {
    "name": "ipython",
    "version": 2
   },
   "file_extension": ".py",
   "mimetype": "text/x-python",
   "name": "python",
   "nbconvert_exporter": "python",
   "pygments_lexer": "ipython2",
   "version": "2.7.6"
  }
 },
 "nbformat": 4,
 "nbformat_minor": 0
}